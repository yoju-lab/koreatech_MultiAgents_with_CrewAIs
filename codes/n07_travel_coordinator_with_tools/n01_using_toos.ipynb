{
 "cells": [
  {
   "cell_type": "code",
   "execution_count": 3,
   "metadata": {},
   "outputs": [],
   "source": [
    "from pprint import pprint"
   ]
  },
  {
   "cell_type": "code",
   "execution_count": null,
   "metadata": {},
   "outputs": [],
   "source": [
    "from tools import FlightSearchTool\n",
    "\n",
    "flights = FlightSearchTool().run(origin_city='인천', destination_city='오사카', departure_date='2025-05-01', adults=2)              \n",
    "\n",
    "# flights\n",
    "pprint(flights)"
   ]
  },
  {
   "cell_type": "code",
   "execution_count": null,
   "metadata": {},
   "outputs": [],
   "source": [
    "from tools import HotelSearchTool\n",
    "\n",
    "# hotels = HotelSearchTool().run(city_name='오사카', check_in_date='2025.05.01', check_out_date='2025.05.03', adults=1, max_hotels=5)\n",
    "hotels = HotelSearchTool().run(city_name='오사카', check_in_date='2025-05-01', check_out_date='2025-05-03', adults=1, max_hotels=10)\n",
    "\n",
    "hotels"
   ]
  },
  {
   "cell_type": "code",
   "execution_count": null,
   "metadata": {},
   "outputs": [],
   "source": [
    "from tools import NearbyPlacesTool\n",
    "\n",
    "nearbyplaces = NearbyPlacesTool().run(place_name='The Westin Osaka', radius=400)\n",
    "nearbyplaces"
   ]
  },
  {
   "cell_type": "code",
   "execution_count": 20,
   "metadata": {},
   "outputs": [
    {
     "name": "stdout",
     "output_type": "stream",
     "text": [
      "Using Tool: 환율 도구\n"
     ]
    },
    {
     "data": {
      "text/plain": [
       "{'from_currency': 'USD',\n",
       " 'to_currency': 'KRW',\n",
       " 'original_amount': 1000,\n",
       " 'converted_amount': 1419285.3,\n",
       " 'conversion_rate': 1419.2853}"
      ]
     },
     "execution_count": 20,
     "metadata": {},
     "output_type": "execute_result"
    }
   ],
   "source": [
    "from tools import ExchangeRateTool\n",
    "\n",
    "exchangerate = ExchangeRateTool().run(from_currency='USD', to_currency='KRW', amount=1000)\n",
    "exchangerate"
   ]
  }
 ],
 "metadata": {
  "kernelspec": {
   "display_name": "Python 3",
   "language": "python",
   "name": "python3"
  },
  "language_info": {
   "codemirror_mode": {
    "name": "ipython",
    "version": 3
   },
   "file_extension": ".py",
   "mimetype": "text/x-python",
   "name": "python",
   "nbconvert_exporter": "python",
   "pygments_lexer": "ipython3",
   "version": "3.11.11"
  }
 },
 "nbformat": 4,
 "nbformat_minor": 2
}
